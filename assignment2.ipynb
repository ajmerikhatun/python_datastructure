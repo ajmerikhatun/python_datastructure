{
 "cells": [
  {
   "cell_type": "markdown",
   "id": "7ef459fb-f8d4-4367-ac4f-6de4b62bf3b9",
   "metadata": {},
   "source": [
    "Assignment2: Object Oriented Programming \n",
    "Name: Ajmeri Khatun\n",
    "Date: Nov 22, 2024"
   ]
  },
  {
   "cell_type": "markdown",
   "id": "5b3df023-c6a0-44b2-b734-e59d59224fca",
   "metadata": {},
   "source": [
    "1. Explain the importance of Functions.\n",
    "Ans: Functions help organize code, avoid repetition, and improve readability and reusability."
   ]
  },
  {
   "cell_type": "code",
   "execution_count": 6,
   "id": "ff0a62eb-6101-415a-81ae-d94acd009508",
   "metadata": {},
   "outputs": [
    {
     "name": "stdout",
     "output_type": "stream",
     "text": [
      "Hello, students!\n"
     ]
    }
   ],
   "source": [
    "#2. Write a basic function to greet students.\n",
    "def greet_students():\n",
    "    print(\"Hello, students!\")\n",
    "greet_students()"
   ]
  },
  {
   "cell_type": "markdown",
   "id": "95cbbf71-37c9-4600-9aea-8822f07d6b39",
   "metadata": {},
   "source": [
    "3. What is the difference between print and return statements?\n",
    "Ans: print: Displays output to the console.\n",
    "     return: Sends a value back to the caller."
   ]
  },
  {
   "cell_type": "markdown",
   "id": "bd6c44c9-f4e6-4aed-8401-41093205f2ac",
   "metadata": {},
   "source": [
    "4. What are *args and **kwargs?\n",
    "Ans: *args: Accepts variable positional arguments.\n",
    "     **kwargs: Accepts variable keyword arguments."
   ]
  },
  {
   "cell_type": "markdown",
   "id": "ff0b2b8c-032b-426f-aa98-4b338d0108ea",
   "metadata": {},
   "source": [
    "5. Explain the iterator function.\n",
    "Ans: An iterator is an object with __iter__() and __next__() methods to loop through items one by one."
   ]
  },
  {
   "cell_type": "code",
   "execution_count": 8,
   "id": "ce0280fe-940d-4db3-be91-e86e4fa8ea77",
   "metadata": {},
   "outputs": [
    {
     "name": "stdout",
     "output_type": "stream",
     "text": [
      "[1, 4, 9, 16, 25]\n"
     ]
    }
   ],
   "source": [
    "#6. Write a code that generates the squares of numbers from 1 to n using a generator.\n",
    "def generate_squares(n):\n",
    "    for i in range(1, n + 1):\n",
    "        yield i ** 2\n",
    "gen = generate_squares(5)\n",
    "print(list(gen))"
   ]
  },
  {
   "cell_type": "code",
   "execution_count": 9,
   "id": "bf9ce967-2734-48e8-9fb9-afe19bab1aaa",
   "metadata": {},
   "outputs": [
    {
     "name": "stdout",
     "output_type": "stream",
     "text": [
      "[0, 1, 2, 3, 4, 5, 6, 7, 8, 9, 11]\n"
     ]
    }
   ],
   "source": [
    "#7. Write a code that generates palindromic numbers up to n using a generator.\n",
    "def generate_palindromes(n):\n",
    "    for i in range(n + 1):\n",
    "        if str(i) == str(i)[::-1]:\n",
    "            yield i\n",
    "gen = generate_palindromes(20)\n",
    "print(list(gen))"
   ]
  },
  {
   "cell_type": "code",
   "execution_count": 10,
   "id": "be5e815b-01a4-460e-b361-6a47cdf83bc6",
   "metadata": {},
   "outputs": [
    {
     "name": "stdout",
     "output_type": "stream",
     "text": [
      "[2, 4, 6, 8, 10]\n"
     ]
    }
   ],
   "source": [
    "#8. Write a code that generates even numbers from 2 to n using a generator.\n",
    "def generate_evens(n):\n",
    "    for i in range(2, n + 1, 2):\n",
    "        yield i\n",
    "gen = generate_evens(10)\n",
    "print(list(gen))"
   ]
  },
  {
   "cell_type": "code",
   "execution_count": 11,
   "id": "65d791d3-89f9-4f35-be7f-40ddc8e6fe3f",
   "metadata": {},
   "outputs": [
    {
     "name": "stdout",
     "output_type": "stream",
     "text": [
      "[1, 2, 4, 8, 16]\n"
     ]
    }
   ],
   "source": [
    "#9. Write a code that generates powers of two up to n using a generator.\n",
    "def generate_powers_of_two(n):\n",
    "    for i in range(n + 1):\n",
    "        yield 2 ** i\n",
    "gen = generate_powers_of_two(4)\n",
    "print(list(gen))"
   ]
  },
  {
   "cell_type": "code",
   "execution_count": 12,
   "id": "4f9b9be4-d1b3-4873-ae70-df4166dbdaf7",
   "metadata": {},
   "outputs": [
    {
     "name": "stdout",
     "output_type": "stream",
     "text": [
      "[2, 3, 5, 7]\n"
     ]
    }
   ],
   "source": [
    "#10. Write a code that generates prime numbers up to n using a generator.\n",
    "def generate_primes(n):\n",
    "    for num in range(2, n + 1):\n",
    "        if all(num % i != 0 for i in range(2, int(num ** 0.5) + 1)):\n",
    "            yield num\n",
    "gen = generate_primes(10)\n",
    "print(list(gen))"
   ]
  },
  {
   "cell_type": "code",
   "execution_count": 13,
   "id": "d2cc51eb-5a17-4fc0-abb7-42a5a5eba519",
   "metadata": {},
   "outputs": [
    {
     "name": "stdout",
     "output_type": "stream",
     "text": [
      "8\n"
     ]
    }
   ],
   "source": [
    "#11. Write a code that uses a lambda function to calculate the sum of two numbers.\n",
    "sum_two = lambda a, b: a + b\n",
    "result = sum_two(5, 3)\n",
    "print(result)"
   ]
  },
  {
   "cell_type": "code",
   "execution_count": 14,
   "id": "b5adb7dd-96a3-467a-bd94-d6475f676225",
   "metadata": {},
   "outputs": [
    {
     "name": "stdout",
     "output_type": "stream",
     "text": [
      "16\n"
     ]
    }
   ],
   "source": [
    "#12. Write a code that uses a lambda function to calculate the square of a given number.\n",
    "square = lambda x: x ** 2\n",
    "result = square(4)\n",
    "print(result)"
   ]
  },
  {
   "cell_type": "code",
   "execution_count": 15,
   "id": "71139636-6626-436e-bd89-47da5b837711",
   "metadata": {},
   "outputs": [
    {
     "name": "stdout",
     "output_type": "stream",
     "text": [
      "Odd\n"
     ]
    }
   ],
   "source": [
    "#13. Write a code that uses a lambda function to check whether a given number is even or odd.\n",
    "is_even = lambda x: \"Even\" if x % 2 == 0 else \"Odd\"\n",
    "result = is_even(7)\n",
    "print(result)"
   ]
  },
  {
   "cell_type": "code",
   "execution_count": 16,
   "id": "94f16c66-2236-466b-a960-dcd9039cf87b",
   "metadata": {},
   "outputs": [
    {
     "name": "stdout",
     "output_type": "stream",
     "text": [
      "Hello World\n"
     ]
    }
   ],
   "source": [
    "#14. Write a code that uses a lambda function to concatenate two strings.\n",
    "concat = lambda a, b: a + b\n",
    "result = concat(\"Hello\", \" World\")\n",
    "print(result)"
   ]
  },
  {
   "cell_type": "code",
   "execution_count": 17,
   "id": "8d96b97f-444f-43c1-bfb3-155a3686e78d",
   "metadata": {},
   "outputs": [
    {
     "name": "stdout",
     "output_type": "stream",
     "text": [
      "7\n"
     ]
    }
   ],
   "source": [
    "#15. Write a code that uses a lambda function to find the maximum of three given numbers.\n",
    "max_three = lambda a, b, c: max(a, b, c)\n",
    "result = max_three(3, 7, 5)\n",
    "print(result)"
   ]
  },
  {
   "cell_type": "code",
   "execution_count": 19,
   "id": "26047fcb-240a-410d-8202-644a9ae8357a",
   "metadata": {},
   "outputs": [
    {
     "name": "stdout",
     "output_type": "stream",
     "text": [
      "[4, 16]\n"
     ]
    }
   ],
   "source": [
    "#16. Write a code that generates the squares of even numbers from a given list.\n",
    "lst = [1, 2, 3, 4, 5]\n",
    "evens_squares = [x ** 2 for x in lst if x % 2 == 0]\n",
    "print(evens_squares)"
   ]
  },
  {
   "cell_type": "code",
   "execution_count": 20,
   "id": "7490b790-0c96-47eb-a216-a4dcfe7debe0",
   "metadata": {},
   "outputs": [
    {
     "name": "stdout",
     "output_type": "stream",
     "text": [
      "12\n"
     ]
    }
   ],
   "source": [
    "#17. Write a code that calculates the product of positive numbers from a given list.\n",
    "lst = [1, -2, 3, 4]\n",
    "product = 1\n",
    "for num in lst:\n",
    "    if num > 0:\n",
    "        product *= num\n",
    "print(product)"
   ]
  },
  {
   "cell_type": "code",
   "execution_count": 21,
   "id": "6de54bb1-a811-40f1-a7fb-5fd8970b0227",
   "metadata": {},
   "outputs": [
    {
     "name": "stdout",
     "output_type": "stream",
     "text": [
      "[2, 6]\n"
     ]
    }
   ],
   "source": [
    "#18. Write a code that doubles the values of odd numbers from a given list.\n",
    "lst = [1, 2, 3, 4]\n",
    "result = [x * 2 for x in lst if x % 2 != 0]\n",
    "print(result)"
   ]
  },
  {
   "cell_type": "code",
   "execution_count": 22,
   "id": "3f6ac55a-a8d5-4d8d-abee-cb394bf0e351",
   "metadata": {},
   "outputs": [
    {
     "name": "stdout",
     "output_type": "stream",
     "text": [
      "36\n"
     ]
    }
   ],
   "source": [
    "#19. Write a code that calculates the sum of cubes of numbers from a given list.\n",
    "lst = [1, 2, 3]\n",
    "result = sum(x ** 3 for x in lst)\n",
    "print(result)"
   ]
  },
  {
   "cell_type": "code",
   "execution_count": 23,
   "id": "18b2d2ca-d1d8-469a-a899-2fedc1030db4",
   "metadata": {},
   "outputs": [
    {
     "name": "stdout",
     "output_type": "stream",
     "text": [
      "[1, 2, 3, 5, 7]\n"
     ]
    }
   ],
   "source": [
    "#20. Write a code that filters out prime numbers from a given list.\n",
    "lst = [1, 2, 3, 4, 5, 6, 7]\n",
    "result = [x for x in lst if all(x % i != 0 for i in range(2, int(x ** 0.5) + 1))]\n",
    "print(result)"
   ]
  },
  {
   "cell_type": "code",
   "execution_count": 24,
   "id": "93209198-5dfa-49db-9adb-b6bbac3994f0",
   "metadata": {},
   "outputs": [
    {
     "name": "stdout",
     "output_type": "stream",
     "text": [
      "8\n"
     ]
    }
   ],
   "source": [
    "#21. Write a code that uses a lambda function to calculate the sum of two numbers.\n",
    "sum_two = lambda a, b: a + b\n",
    "result = sum_two(5, 3)\n",
    "print(result)"
   ]
  },
  {
   "cell_type": "code",
   "execution_count": 25,
   "id": "bd25089e-a30c-4e70-8ccf-7b5cbafbabf2",
   "metadata": {},
   "outputs": [
    {
     "name": "stdout",
     "output_type": "stream",
     "text": [
      "16\n"
     ]
    }
   ],
   "source": [
    "#22. Write a code that uses a lambda function to calculate the square of a given number.\n",
    "square = lambda x: x ** 2\n",
    "result = square(4)\n",
    "print(result)"
   ]
  },
  {
   "cell_type": "code",
   "execution_count": 26,
   "id": "f8a59bb6-6c52-4504-9181-57aead07f48a",
   "metadata": {},
   "outputs": [
    {
     "name": "stdout",
     "output_type": "stream",
     "text": [
      "Odd\n"
     ]
    }
   ],
   "source": [
    "#23. Write a code that uses a lambda function to check whether a given number is even or odd.\n",
    "is_even = lambda x: \"Even\" if x % 2 == 0 else \"Odd\"\n",
    "result = is_even(7)\n",
    "print(result)"
   ]
  },
  {
   "cell_type": "code",
   "execution_count": 27,
   "id": "c4f988c4-18b6-4967-bc09-9cd709457ebd",
   "metadata": {},
   "outputs": [
    {
     "name": "stdout",
     "output_type": "stream",
     "text": [
      "Hello World\n"
     ]
    }
   ],
   "source": [
    "#24. Write a code that uses a lambda function to concatenate two strings.\n",
    "concat = lambda a, b: a + b\n",
    "result = concat(\"Hello\", \" World\")\n",
    "print(result)"
   ]
  },
  {
   "cell_type": "code",
   "execution_count": 28,
   "id": "e2378ef3-0f9e-4854-810a-f01fc59abf3f",
   "metadata": {},
   "outputs": [
    {
     "name": "stdout",
     "output_type": "stream",
     "text": [
      "7\n"
     ]
    }
   ],
   "source": [
    "#25. Write a code that uses a lambda function to find the maximum of three given numbers.\n",
    "max_three = lambda a, b, c: max(a, b, c)\n",
    "result = max_three(3, 7, 5)\n",
    "print(result)"
   ]
  },
  {
   "cell_type": "markdown",
   "id": "6f9b9735-385a-49b9-872d-40a4157197b3",
   "metadata": {},
   "source": [
    "26. What is encapsulation in OOP?\n",
    "Ans: Encapsulation hides internal details and protects data from unauthorized access."
   ]
  },
  {
   "cell_type": "markdown",
   "id": "c882fa8f-2e06-4206-bf7d-5c2b6991b847",
   "metadata": {},
   "source": [
    "27. Explain the use of access modifiers in Python classes.\n",
    "Ans: public: Accessible everywhere.\n",
    "    _protected: Accessible within the class or subclass.\n",
    "    __private: Accessible only within the class."
   ]
  },
  {
   "cell_type": "markdown",
   "id": "5f4fcce3-31fb-44fa-b4a2-8b4e764fca86",
   "metadata": {},
   "source": [
    "28. What is inheritance in OOP?\n",
    "Ans: Inheritance allows a class to use methods and attributes of another class."
   ]
  },
  {
   "cell_type": "markdown",
   "id": "d3ffa65c-a333-477a-90aa-1e2f20d8d680",
   "metadata": {},
   "source": [
    "29. Define polymorphism in OOP.\n",
    "Ans: Polymorphism lets a single interface work with different data types or classes."
   ]
  },
  {
   "cell_type": "markdown",
   "id": "c4b0d32d-6c1e-4c95-b672-e373ee6d17ea",
   "metadata": {},
   "source": [
    "30. Explain method overriding in Python.\n",
    "Ans: Redefining a parent class method in a subclass to provide a specific implementation."
   ]
  },
  {
   "cell_type": "code",
   "execution_count": 29,
   "id": "04463c72-6e1f-4f50-9bc4-e11cc172ed24",
   "metadata": {},
   "outputs": [
    {
     "name": "stdout",
     "output_type": "stream",
     "text": [
      "Generic animal sound\n",
      "Woof!\n"
     ]
    }
   ],
   "source": [
    "#31. Define a parent class Animal with a method make_sound that prints \"Generic animal sound\". Create a\n",
    "# child class Dog inheriting from Animal with a method make_sound that prints \"Woof!\"\n",
    "class Animal:\n",
    "    def make_sound(self):\n",
    "        print(\"Generic animal sound\")\n",
    "\n",
    "class Dog(Animal):\n",
    "    def make_sound(self):\n",
    "        print(\"Woof!\")\n",
    "\n",
    "# Example usage\n",
    "animal = Animal()\n",
    "dog = Dog()\n",
    "animal.make_sound()\n",
    "dog.make_sound()"
   ]
  },
  {
   "cell_type": "code",
   "execution_count": 30,
   "id": "41b86232-3b2f-43b1-8235-571f50d0ba8e",
   "metadata": {},
   "outputs": [
    {
     "name": "stdout",
     "output_type": "stream",
     "text": [
      "Animal moves\n",
      "Dog runs\n"
     ]
    }
   ],
   "source": [
    "#32. Define a method move in the Animal class that prints \"Animal moves\". Override the move method in the\n",
    "# Dog class to print \"Dog runs\"\n",
    "class Animal:\n",
    "    def move(self):\n",
    "        print(\"Animal moves\")\n",
    "\n",
    "class Dog(Animal):\n",
    "    def move(self):\n",
    "        print(\"Dog runs\")\n",
    "\n",
    "# Example usage\n",
    "animal = Animal()\n",
    "dog = Dog()\n",
    "animal.move()\n",
    "dog.move()"
   ]
  },
  {
   "cell_type": "code",
   "execution_count": 31,
   "id": "eac8cd43-2bde-4dd7-984f-410cf6bb7a82",
   "metadata": {},
   "outputs": [
    {
     "name": "stdout",
     "output_type": "stream",
     "text": [
      "Woof!\n",
      "Giving birth to live young\n"
     ]
    }
   ],
   "source": [
    "#33. Create a class Mammal with a method reproduce that prints \"Giving birth to live young.\" Create a class\n",
    "# DogMammal inheriting from both Dog and Mammal\n",
    "class Mammal:\n",
    "    def reproduce(self):\n",
    "        print(\"Giving birth to live young\")\n",
    "\n",
    "class Dog(Animal):\n",
    "    def make_sound(self):\n",
    "        print(\"Woof!\")\n",
    "\n",
    "class DogMammal(Dog, Mammal):\n",
    "    pass\n",
    "\n",
    "# Example usage\n",
    "dog_mammal = DogMammal()\n",
    "dog_mammal.make_sound()\n",
    "dog_mammal.reproduce()"
   ]
  },
  {
   "cell_type": "code",
   "execution_count": 32,
   "id": "5bb6309d-0981-49d8-a14f-5ebe1d8064bc",
   "metadata": {},
   "outputs": [
    {
     "name": "stdout",
     "output_type": "stream",
     "text": [
      "Bark!\n"
     ]
    }
   ],
   "source": [
    "#34. Create a class GermanShepherd inheriting from Dog and override the make_sound method to print\n",
    "# \"Bark!\"\n",
    "class GermanShepherd(Dog):\n",
    "    def make_sound(self):\n",
    "        print(\"Bark!\")\n",
    "\n",
    "# Example usage\n",
    "german_shepherd = GermanShepherd()\n",
    "german_shepherd.make_sound()"
   ]
  },
  {
   "cell_type": "code",
   "execution_count": 33,
   "id": "620dafa1-71f1-4099-ab9e-fe6d410f902e",
   "metadata": {},
   "outputs": [
    {
     "name": "stdout",
     "output_type": "stream",
     "text": [
      "Animal: Dog\n",
      "Breed: Golden Retriever\n"
     ]
    }
   ],
   "source": [
    "#35. Define constructors in both the Animal and Dog classes with different initialization parameters.\n",
    "class Animal:\n",
    "    def __init__(self, species):\n",
    "        self.species = species\n",
    "        print(f\"Animal: {self.species}\")\n",
    "\n",
    "class Dog(Animal):\n",
    "    def __init__(self, breed):\n",
    "        super().__init__(\"Dog\")\n",
    "        self.breed = breed\n",
    "        print(f\"Breed: {self.breed}\")\n",
    "\n",
    "# Example usage\n",
    "dog = Dog(\"Golden Retriever\")"
   ]
  },
  {
   "cell_type": "markdown",
   "id": "15bf9e58-505e-4456-b96f-296632815995",
   "metadata": {},
   "source": [
    "36. What is abstraction in Python? How is it implemented?\n",
    "Ans: Hides implementation details and shows only essential features. Achieved using ABC module."
   ]
  },
  {
   "cell_type": "markdown",
   "id": "a7d726ec-3d64-4b50-87ac-e9079484741c",
   "metadata": {},
   "source": [
    "37. Explain the importance of abstraction in object-oriented programming.\n",
    "Ans: Simplifies complex systems and improves code clarity."
   ]
  },
  {
   "cell_type": "markdown",
   "id": "01dc2460-8862-49b7-97c8-c4250e31371d",
   "metadata": {},
   "source": [
    "38. How are abstract methods different from regular methods in Python?\n",
    "Ans: Abstract methods have no implementation and must be overridden, while regular methods can be directly used."
   ]
  },
  {
   "cell_type": "markdown",
   "id": "21cc7d56-7c2d-40f4-bfd9-9f4a3276db6a",
   "metadata": {},
   "source": [
    "39. How can you achieve abstraction using interfaces in Python?\n",
    "Ans: Interfaces in Python are implemented using abstract classes with abstract methods."
   ]
  },
  {
   "cell_type": "code",
   "execution_count": 34,
   "id": "c31219bb-b820-4ef9-8d53-91ae27e6ddc2",
   "metadata": {},
   "outputs": [
    {
     "name": "stdout",
     "output_type": "stream",
     "text": [
      "Area: 78.5\n",
      "Area: 24\n"
     ]
    }
   ],
   "source": [
    "#40. Can you provide an example of how abstraction can be utilized to create a common interface for a group of related classes in Python?\n",
    "#Abstraction can be implemented in Python using abstract base classes (ABC). This allows us to define a blueprint for other classes to implement common methods.\n",
    "from abc import ABC, abstractmethod\n",
    "\n",
    "class Shape(ABC):\n",
    "    @abstractmethod\n",
    "    def calculate_area(self):\n",
    "        pass\n",
    "\n",
    "class Circle(Shape):\n",
    "    def __init__(self, radius):\n",
    "        self.radius = radius\n",
    "\n",
    "    def calculate_area(self):\n",
    "        return 3.14 * self.radius ** 2\n",
    "\n",
    "class Rectangle(Shape):\n",
    "    def __init__(self, length, width):\n",
    "        self.length = length\n",
    "        self.width = width\n",
    "\n",
    "    def calculate_area(self):\n",
    "        return self.length * self.width\n",
    "\n",
    "# Example usage\n",
    "shapes = [Circle(5), Rectangle(4, 6)]\n",
    "\n",
    "for shape in shapes:\n",
    "    print(f\"Area: {shape.calculate_area()}\")"
   ]
  },
  {
   "cell_type": "code",
   "execution_count": 35,
   "id": "28fa7a53-9900-43ed-831d-97228462b15e",
   "metadata": {},
   "outputs": [
    {
     "name": "stdout",
     "output_type": "stream",
     "text": [
      "Woof!\n",
      "Meow!\n"
     ]
    }
   ],
   "source": [
    "#41. How Python Achieves Polymorphism Through Method Overriding?\n",
    "#In Python, polymorphism allows methods to behave differently depending on the object calling them. Method overriding enables this by redefining a method in a subclass that is already defined in the parent class.\n",
    "class Animal:\n",
    "    def make_sound(self):\n",
    "        print(\"Generic animal sound\")\n",
    "\n",
    "class Dog(Animal):\n",
    "    def make_sound(self):\n",
    "        print(\"Woof!\")\n",
    "\n",
    "class Cat(Animal):\n",
    "    def make_sound(self):\n",
    "        print(\"Meow!\")\n",
    "\n",
    "# Example usage\n",
    "animals = [Dog(), Cat()]\n",
    "\n",
    "for animal in animals:\n",
    "    animal.make_sound()"
   ]
  },
  {
   "cell_type": "code",
   "execution_count": 36,
   "id": "55a40807-fc03-488f-9c4b-2db2d63d1e9b",
   "metadata": {},
   "outputs": [
    {
     "name": "stdout",
     "output_type": "stream",
     "text": [
      "Vehicle is moving\n",
      "Car is driving\n"
     ]
    }
   ],
   "source": [
    "#42. Define a Base Class with a Method and a Subclass that Overrides the Method.\n",
    "class Vehicle:\n",
    "    def move(self):\n",
    "        print(\"Vehicle is moving\")\n",
    "\n",
    "class Car(Vehicle):\n",
    "    def move(self):\n",
    "        print(\"Car is driving\")\n",
    "\n",
    "# Example usage\n",
    "vehicle = Vehicle()\n",
    "car = Car()\n",
    "\n",
    "vehicle.move()\n",
    "car.move()"
   ]
  },
  {
   "cell_type": "code",
   "execution_count": 37,
   "id": "2401693f-8f3b-4ef0-85db-901f16e9516b",
   "metadata": {},
   "outputs": [
    {
     "name": "stdout",
     "output_type": "stream",
     "text": [
      "Woof!\n",
      "Meow!\n",
      "Moo!\n"
     ]
    }
   ],
   "source": [
    "#43. Define a Base Class and Multiple Subclasses with Overridden Methods.\n",
    "class Animal:\n",
    "    def make_sound(self):\n",
    "        print(\"Some generic animal sound\")\n",
    "\n",
    "class Dog(Animal):\n",
    "    def make_sound(self):\n",
    "        print(\"Woof!\")\n",
    "\n",
    "class Cat(Animal):\n",
    "    def make_sound(self):\n",
    "        print(\"Meow!\")\n",
    "\n",
    "class Cow(Animal):\n",
    "    def make_sound(self):\n",
    "        print(\"Moo!\")\n",
    "\n",
    "# Example usage\n",
    "animals = [Dog(), Cat(), Cow()]\n",
    "\n",
    "for animal in animals:\n",
    "    animal.make_sound()"
   ]
  },
  {
   "cell_type": "code",
   "execution_count": 38,
   "id": "9c63bdda-f64a-4937-96e0-86595536e32d",
   "metadata": {},
   "outputs": [
    {
     "name": "stdout",
     "output_type": "stream",
     "text": [
      "Woof!\n",
      "Meow!\n"
     ]
    }
   ],
   "source": [
    "#44. How Polymorphism Improves Code Readability and Reusability?\n",
    "#Polymorphism improves code readability and reusability by allowing the same method to be applied to different types of objects, making the code more flexible and easier to extend.\n",
    "class Animal:\n",
    "    def make_sound(self):\n",
    "        raise NotImplementedError(\"Subclass must implement abstract method\")\n",
    "\n",
    "class Dog(Animal):\n",
    "    def make_sound(self):\n",
    "        return \"Woof!\"\n",
    "\n",
    "class Cat(Animal):\n",
    "    def make_sound(self):\n",
    "        return \"Meow!\"\n",
    "\n",
    "def print_sound(animal):\n",
    "    print(animal.make_sound())\n",
    "\n",
    "# Example usage\n",
    "animals = [Dog(), Cat()]\n",
    "for animal in animals:\n",
    "    print_sound(animal)"
   ]
  },
  {
   "cell_type": "code",
   "execution_count": 39,
   "id": "92288ad7-777c-4cde-ad47-268869f63959",
   "metadata": {},
   "outputs": [
    {
     "name": "stdout",
     "output_type": "stream",
     "text": [
      "Chirp\n",
      "Hello\n"
     ]
    }
   ],
   "source": [
    "#45. How Python Supports Polymorphism with Duck Typing?\n",
    "#In Python, duck typing allows polymorphism where the type of an object is determined by its behavior (methods and properties) rather than its actual class type.\n",
    "class Bird:\n",
    "    def speak(self):\n",
    "        print(\"Chirp\")\n",
    "\n",
    "class Person:\n",
    "    def speak(self):\n",
    "        print(\"Hello\")\n",
    "\n",
    "def make_speak(entity):\n",
    "    entity.speak()\n",
    "\n",
    "# Example usage\n",
    "entities = [Bird(), Person()]\n",
    "for entity in entities:\n",
    "    make_speak(entity)"
   ]
  },
  {
   "cell_type": "code",
   "execution_count": 40,
   "id": "015f147c-55c9-4406-b643-62773e8ffa82",
   "metadata": {},
   "outputs": [
    {
     "name": "stdout",
     "output_type": "stream",
     "text": [
      "1200\n"
     ]
    }
   ],
   "source": [
    "#46. How to Achieve Encapsulation in Python?\n",
    "#Encapsulation in Python can be achieved by using private attributes (with a leading underscore) and getter/setter methods (to access and modify them).\n",
    "class BankAccount:\n",
    "    def __init__(self, balance):\n",
    "        self._balance = balance  # Private attribute\n",
    "\n",
    "    def deposit(self, amount):\n",
    "        self._balance += amount\n",
    "\n",
    "    def withdraw(self, amount):\n",
    "        if amount <= self._balance:\n",
    "            self._balance -= amount\n",
    "        else:\n",
    "            print(\"Insufficient funds\")\n",
    "\n",
    "    def get_balance(self):\n",
    "        return self._balance\n",
    "\n",
    "# Example usage\n",
    "account = BankAccount(1000)\n",
    "account.deposit(500)\n",
    "account.withdraw(300)\n",
    "print(account.get_balance())"
   ]
  },
  {
   "cell_type": "code",
   "execution_count": 41,
   "id": "d7e24741-0233-40c0-8a9f-80787fcc9bb8",
   "metadata": {},
   "outputs": [
    {
     "name": "stdout",
     "output_type": "stream",
     "text": [
      "500\n"
     ]
    }
   ],
   "source": [
    "#47. Can Encapsulation Be Bypassed in Python?\n",
    "#Yes, in Python, encapsulation can be bypassed because it is based on naming conventions (like the underscore for private attributes). Python does not enforce true encapsulation like some other languages.\n",
    "class BankAccount:\n",
    "    def __init__(self, balance):\n",
    "        self._balance = balance  # Private attribute\n",
    "\n",
    "# Example usage\n",
    "account = BankAccount(1000)\n",
    "account._balance = 500  # Directly accessing the private attribute (bypassing encapsulation)\n",
    "print(account._balance)"
   ]
  },
  {
   "cell_type": "code",
   "execution_count": 42,
   "id": "a9dd8d8f-4a3d-4da3-9c29-236a825b29f9",
   "metadata": {},
   "outputs": [
    {
     "name": "stdout",
     "output_type": "stream",
     "text": [
      "600\n"
     ]
    }
   ],
   "source": [
    "#48. Implement a Class BankAccount with Private Balance Attribute.\n",
    "class BankAccount:\n",
    "    def __init__(self, balance):\n",
    "        self.__balance = balance  # Private attribute\n",
    "\n",
    "    def deposit(self, amount):\n",
    "        self.__balance += amount\n",
    "\n",
    "    def withdraw(self, amount):\n",
    "        if amount <= self.__balance:\n",
    "            self.__balance -= amount\n",
    "        else:\n",
    "            print(\"Insufficient funds\")\n",
    "\n",
    "    def check_balance(self):\n",
    "        return self.__balance\n",
    "\n",
    "# Example usage\n",
    "account = BankAccount(500)\n",
    "account.deposit(200)\n",
    "account.withdraw(100)\n",
    "print(account.check_balance())"
   ]
  },
  {
   "cell_type": "code",
   "execution_count": 43,
   "id": "c7c2a1ac-a401-4707-89c0-4f4469d23c14",
   "metadata": {},
   "outputs": [
    {
     "name": "stdout",
     "output_type": "stream",
     "text": [
      "john@example.com\n",
      "newemail@example.com\n"
     ]
    }
   ],
   "source": [
    "#49. Develop a Person Class with Private Attributes Name and Email.\n",
    "class Person:\n",
    "    def __init__(self, name, email):\n",
    "        self.__name = name  # Private attribute\n",
    "        self.__email = email  # Private attribute\n",
    "\n",
    "    def set_email(self, email):\n",
    "        self.__email = email\n",
    "\n",
    "    def get_email(self):\n",
    "        return self.__email\n",
    "\n",
    "# Example usage\n",
    "person = Person(\"John Doe\", \"john@example.com\")\n",
    "print(person.get_email())\n",
    "person.set_email(\"newemail@example.com\")\n",
    "print(person.get_email())"
   ]
  },
  {
   "cell_type": "markdown",
   "id": "52bb72eb-f330-4635-a2dd-fc4402d7e822",
   "metadata": {},
   "source": [
    "50. Why is Encapsulation Considered a Pillar of OOP?\n",
    "Ans: Encapsulation is considered a pillar of Object-Oriented Programming (OOP) because it helps:\n",
    "     Hide complexity: By hiding the internal details of an object and only exposing a public interface.\n",
    "     Control access: By restricting direct access to object data, thus reducing the risk of unwanted changes or misuse.\n",
    "     Improve maintainability: By changing the internal implementation without affecting other parts of the system."
   ]
  },
  {
   "cell_type": "code",
   "execution_count": 44,
   "id": "00e56dbf-8e6d-4520-8ef1-11253b6ead70",
   "metadata": {},
   "outputs": [
    {
     "name": "stdout",
     "output_type": "stream",
     "text": [
      "Before function execution\n",
      "Hello!\n",
      "After function execution\n"
     ]
    }
   ],
   "source": [
    "#51. Create a Decorator to Add Functionality (Print Before and After Execution)\n",
    "#A decorator is a function that takes another function as input and adds some functionality to it.\n",
    "def my_decorator(func):\n",
    "    def wrapper():\n",
    "        print(\"Before function execution\")\n",
    "        func()\n",
    "        print(\"After function execution\")\n",
    "    return wrapper\n",
    "\n",
    "@my_decorator\n",
    "def say_hello():\n",
    "    print(\"Hello!\")\n",
    "\n",
    "# Example usage\n",
    "say_hello()"
   ]
  },
  {
   "cell_type": "code",
   "execution_count": 45,
   "id": "5a03bf83-bc3f-48d7-8034-0661e50887bb",
   "metadata": {},
   "outputs": [
    {
     "name": "stdout",
     "output_type": "stream",
     "text": [
      "Function add is being executed\n",
      "Function add execution completed\n",
      "8\n"
     ]
    }
   ],
   "source": [
    "#52. Modify the Decorator to Accept Arguments and Print the Function Name.\n",
    "#To modify the decorator to accept arguments, we can adjust the wrapper function to handle any arguments passed to the decorated function.\n",
    "def my_decorator(func):\n",
    "    def wrapper(*args, **kwargs):\n",
    "        print(f\"Function {func.__name__} is being executed\")\n",
    "        result = func(*args, **kwargs)\n",
    "        print(f\"Function {func.__name__} execution completed\")\n",
    "        return result\n",
    "    return wrapper\n",
    "\n",
    "@my_decorator\n",
    "def add(a, b):\n",
    "    return a + b\n",
    "\n",
    "# Example usage\n",
    "print(add(3, 5))"
   ]
  },
  {
   "cell_type": "code",
   "execution_count": 46,
   "id": "3c70c39d-cd3a-48d8-94fe-792d8e199060",
   "metadata": {},
   "outputs": [
    {
     "name": "stdout",
     "output_type": "stream",
     "text": [
      "Decorator 1 start\n",
      "Decorator 2 start\n",
      "Hi!\n",
      "Decorator 2 end\n",
      "Decorator 1 end\n"
     ]
    }
   ],
   "source": [
    "#53. Create Two Decorators and Apply Them to a Single Function\n",
    "def decorator1(func):\n",
    "    def wrapper():\n",
    "        print(\"Decorator 1 start\")\n",
    "        func()\n",
    "        print(\"Decorator 1 end\")\n",
    "    return wrapper\n",
    "\n",
    "def decorator2(func):\n",
    "    def wrapper():\n",
    "        print(\"Decorator 2 start\")\n",
    "        func()\n",
    "        print(\"Decorator 2 end\")\n",
    "    return wrapper\n",
    "\n",
    "@decorator1\n",
    "@decorator2\n",
    "def say_hi():\n",
    "    print(\"Hi!\")\n",
    "\n",
    "# Example usage\n",
    "say_hi()"
   ]
  },
  {
   "cell_type": "code",
   "execution_count": 47,
   "id": "32ae1c07-64ad-4b40-bbae-c03689bdef2f",
   "metadata": {},
   "outputs": [
    {
     "name": "stdout",
     "output_type": "stream",
     "text": [
      "Function execution started\n",
      "Function execution completed\n",
      "20\n"
     ]
    }
   ],
   "source": [
    "#54. Modify the Decorator to Accept and Pass Arguments to the Wrapped Function\n",
    "def my_decorator(func):\n",
    "    def wrapper(*args, **kwargs):\n",
    "        print(\"Function execution started\")\n",
    "        result = func(*args, **kwargs)\n",
    "        print(\"Function execution completed\")\n",
    "        return result\n",
    "    return wrapper\n",
    "\n",
    "@my_decorator\n",
    "def multiply(a, b):\n",
    "    return a * b\n",
    "\n",
    "# Example usage\n",
    "print(multiply(4, 5))"
   ]
  },
  {
   "cell_type": "code",
   "execution_count": 48,
   "id": "6dfd1fd9-4641-4373-b1d5-be0a47e91bb3",
   "metadata": {},
   "outputs": [
    {
     "name": "stdout",
     "output_type": "stream",
     "text": [
      "Executing function\n",
      "Hello, Alice\n",
      "greet\n",
      "This function greets a person.\n"
     ]
    }
   ],
   "source": [
    "#55. Create a Decorator that Preserves the Metadata of the Original Function\n",
    "from functools import wraps\n",
    "\n",
    "def my_decorator(func):\n",
    "    @wraps(func)\n",
    "    def wrapper(*args, **kwargs):\n",
    "        print(\"Executing function\")\n",
    "        return func(*args, **kwargs)\n",
    "    return wrapper\n",
    "\n",
    "@my_decorator\n",
    "def greet(name):\n",
    "    \"\"\"This function greets a person.\"\"\"\n",
    "    return f\"Hello, {name}\"\n",
    "\n",
    "# Example usage\n",
    "print(greet(\"Alice\"))\n",
    "print(greet.__name__)  # Function name should be preserved\n",
    "print(greet.__doc__)   # Function docstring should be preserved"
   ]
  },
  {
   "cell_type": "code",
   "execution_count": 49,
   "id": "1f2054af-b208-4f9e-9723-bced3f624b40",
   "metadata": {},
   "outputs": [
    {
     "name": "stdout",
     "output_type": "stream",
     "text": [
      "8\n"
     ]
    }
   ],
   "source": [
    "#56. Create a Python Class Calculator with a Static Method add\n",
    "class Calculator:\n",
    "    @staticmethod\n",
    "    def add(a, b):\n",
    "        return a + b\n",
    "\n",
    "# Example usage\n",
    "print(Calculator.add(5, 3))"
   ]
  },
  {
   "cell_type": "code",
   "execution_count": null,
   "id": "4266acc6-1aa5-4217-9ded-04fb4304874b",
   "metadata": {},
   "outputs": [],
   "source": [
    "#57. Create a Python Class Employee with a Class Method get_employee_count\n",
    "class Employee:\n",
    "    employee_count = 0\n",
    "\n",
    "    def __init__(self, name):\n",
    "        self.name = name\n",
    "        Employee.employee_count += 1\n",
    "\n",
    "    @classmethod\n",
    "    def get_employee_count(cls):\n",
    "        return cls.employee_count\n",
    "\n",
    "# Example usage\n",
    "emp1 = Employee(\"Alice\")\n",
    "emp2 = Employee(\"Bob\")\n",
    "print(Employee.get_employee_count())"
   ]
  },
  {
   "cell_type": "code",
   "execution_count": 50,
   "id": "e5d4bc42-51d6-4bc2-99fa-e8d938cfd036",
   "metadata": {},
   "outputs": [
    {
     "name": "stdout",
     "output_type": "stream",
     "text": [
      "olleh\n"
     ]
    }
   ],
   "source": [
    "#58. Create a Python Class StringFormatter with a Static Method reverse_string\n",
    "class StringFormatter:\n",
    "    @staticmethod\n",
    "    def reverse_string(string):\n",
    "        return string[::-1]\n",
    "\n",
    "# Example usage\n",
    "print(StringFormatter.reverse_string(\"hello\"))"
   ]
  },
  {
   "cell_type": "code",
   "execution_count": 51,
   "id": "343f8a59-ef5b-406f-9cb4-e4e7fb4ccacd",
   "metadata": {},
   "outputs": [
    {
     "name": "stdout",
     "output_type": "stream",
     "text": [
      "78.5\n"
     ]
    }
   ],
   "source": [
    "#59. Create a Python Class Circle with a Class Method calculate_area\n",
    "class Circle:\n",
    "    @classmethod\n",
    "    def calculate_area(cls, radius):\n",
    "        return 3.14 * radius ** 2\n",
    "\n",
    "# Example usage\n",
    "print(Circle.calculate_area(5))"
   ]
  },
  {
   "cell_type": "code",
   "execution_count": 52,
   "id": "60fa90fd-e837-4012-94b4-da5d7567cbde",
   "metadata": {},
   "outputs": [
    {
     "name": "stdout",
     "output_type": "stream",
     "text": [
      "77.0\n"
     ]
    }
   ],
   "source": [
    "#60. Create a Python Class TemperatureConverter with a Static Method celsius_to_fahrenheit\n",
    "class TemperatureConverter:\n",
    "    @staticmethod\n",
    "    def celsius_to_fahrenheit(celsius):\n",
    "        return (celsius * 9/5) + 32\n",
    "\n",
    "# Example usage\n",
    "print(TemperatureConverter.celsius_to_fahrenheit(25))"
   ]
  },
  {
   "cell_type": "code",
   "execution_count": 53,
   "id": "2d0303f8-04da-45f8-a067-ebd5c10bbd43",
   "metadata": {},
   "outputs": [
    {
     "name": "stdout",
     "output_type": "stream",
     "text": [
      "Person(name: Alice, age: 30)\n"
     ]
    }
   ],
   "source": [
    "#61. Purpose of the __str__() Method in Python Classes.\n",
    "#The __str__() method is used to define a human-readable string representation of an object.\n",
    "class Person:\n",
    "    def __init__(self, name, age):\n",
    "        self.name = name\n",
    "        self.age = age\n",
    "\n",
    "    def __str__(self):\n",
    "        return f\"Person(name: {self.name}, age: {self.age})\"\n",
    "\n",
    "# Example usage\n",
    "p = Person(\"Alice\", 30)\n",
    "print(p)"
   ]
  },
  {
   "cell_type": "code",
   "execution_count": 54,
   "id": "e14e84db-ea4c-44e2-910a-e7ffc607d480",
   "metadata": {},
   "outputs": [
    {
     "name": "stdout",
     "output_type": "stream",
     "text": [
      "4\n"
     ]
    }
   ],
   "source": [
    "#62. How the __len__() Method Works in Python?\n",
    "#The __len__() method is used to return the length of an object when len() is called on it.\n",
    "class MyList:\n",
    "    def __init__(self, items):\n",
    "        self.items = items\n",
    "\n",
    "    def __len__(self):\n",
    "        return len(self.items)\n",
    "\n",
    "# Example usage\n",
    "lst = MyList([1, 2, 3, 4])\n",
    "print(len(lst))"
   ]
  },
  {
   "cell_type": "code",
   "execution_count": 55,
   "id": "b2e2987a-dde8-414d-99c7-6ce5112475f7",
   "metadata": {},
   "outputs": [
    {
     "name": "stdout",
     "output_type": "stream",
     "text": [
      "Point(4, 6)\n"
     ]
    }
   ],
   "source": [
    "#63. Usage of the __add__() Method in Python Classes.\n",
    "#The __add__() method is used to define how the + operator behaves for objects of a class.\n",
    "class Point:\n",
    "    def __init__(self, x, y):\n",
    "        self.x = x\n",
    "        self.y = y\n",
    "\n",
    "    def __add__(self, other):\n",
    "        return Point(self.x + other.x, self.y + other.y)\n",
    "\n",
    "    def __str__(self):\n",
    "        return f\"Point({self.x}, {self.y})\"\n",
    "\n",
    "# Example usage\n",
    "p1 = Point(1, 2)\n",
    "p2 = Point(3, 4)\n",
    "p3 = p1 + p2\n",
    "print(p3)"
   ]
  },
  {
   "cell_type": "code",
   "execution_count": 56,
   "id": "1a6025a6-18eb-482d-b8d7-18b00398f57e",
   "metadata": {},
   "outputs": [
    {
     "name": "stdout",
     "output_type": "stream",
     "text": [
      "30\n"
     ]
    }
   ],
   "source": [
    "#64. Purpose of the __getitem__() Method in Python.\n",
    "#The __getitem__() method allows an object to support indexing (obj[index]).\n",
    "class MyList:\n",
    "    def __init__(self, items):\n",
    "        self.items = items\n",
    "\n",
    "    def __getitem__(self, index):\n",
    "        return self.items[index]\n",
    "\n",
    "# Example usage\n",
    "lst = MyList([10, 20, 30, 40])\n",
    "print(lst[2])"
   ]
  },
  {
   "cell_type": "code",
   "execution_count": 57,
   "id": "5248eea8-b542-4bb4-a258-ec1ce1743c49",
   "metadata": {},
   "outputs": [
    {
     "name": "stdout",
     "output_type": "stream",
     "text": [
      "1\n",
      "2\n",
      "3\n",
      "4\n",
      "5\n"
     ]
    }
   ],
   "source": [
    "#65. Usage of the __iter__() and __next__() Methods in Python\n",
    "#These methods allow objects to be iterated using for loops.\n",
    "class Counter:\n",
    "    def __init__(self, low, high):\n",
    "        self.current = low\n",
    "        self.high = high\n",
    "\n",
    "    def __iter__(self):\n",
    "        return self\n",
    "\n",
    "    def __next__(self):\n",
    "        if self.current > self.high:\n",
    "            raise StopIteration\n",
    "        else:\n",
    "            self.current += 1\n",
    "            return self.current - 1\n",
    "\n",
    "# Example usage\n",
    "counter = Counter(1, 5)\n",
    "for num in counter:\n",
    "    print(num)"
   ]
  },
  {
   "cell_type": "code",
   "execution_count": 58,
   "id": "399c992d-5d5d-4ca3-ba0b-cd5b23296636",
   "metadata": {},
   "outputs": [
    {
     "name": "stdout",
     "output_type": "stream",
     "text": [
      "Alice\n"
     ]
    }
   ],
   "source": [
    "#66. Purpose of a Getter Method in Python (Using Property Decorators)\n",
    "#A getter method is used to retrieve the value of a private attribute.\n",
    "class Person:\n",
    "    def __init__(self, name):\n",
    "        self._name = name\n",
    "\n",
    "    @property\n",
    "    def name(self):\n",
    "        return self._name\n",
    "\n",
    "# Example usage\n",
    "person = Person(\"Alice\")\n",
    "print(person.name)"
   ]
  },
  {
   "cell_type": "code",
   "execution_count": 59,
   "id": "751cf7f0-8a21-4758-999c-db9109386887",
   "metadata": {},
   "outputs": [
    {
     "name": "stdout",
     "output_type": "stream",
     "text": [
      "Bob\n"
     ]
    }
   ],
   "source": [
    "#67. Usage of Setter Methods in Python (Using Property Decorators)\n",
    "#A setter method is used to modify the value of a private attribute.\n",
    "class Person:\n",
    "    def __init__(self, name):\n",
    "        self._name = name\n",
    "\n",
    "    @property\n",
    "    def name(self):\n",
    "        return self._name\n",
    "\n",
    "    @name.setter\n",
    "    def name(self, value):\n",
    "        self._name = value\n",
    "\n",
    "# Example usage\n",
    "person = Person(\"Alice\")\n",
    "person.name = \"Bob\"\n",
    "print(person.name)"
   ]
  },
  {
   "cell_type": "code",
   "execution_count": 60,
   "id": "7c027737-cb85-49b1-aa4d-0c6e788e0af7",
   "metadata": {},
   "outputs": [
    {
     "name": "stdout",
     "output_type": "stream",
     "text": [
      "25\n"
     ]
    }
   ],
   "source": [
    "#68. Purpose of the @property Decorator in Python\n",
    "#The @property decorator is used to define a getter method that allows access to a private attribute without directly exposing it.\n",
    "class Person:\n",
    "    def __init__(self, age):\n",
    "        self._age = age\n",
    "\n",
    "    @property\n",
    "    def age(self):\n",
    "        return self._age\n",
    "\n",
    "# Example usage\n",
    "person = Person(25)\n",
    "print(person.age)"
   ]
  },
  {
   "cell_type": "code",
   "execution_count": 61,
   "id": "e8049aef-2585-4184-a404-de451c0a8493",
   "metadata": {},
   "outputs": [
    {
     "name": "stdout",
     "output_type": "stream",
     "text": [
      "Deleting name...\n"
     ]
    }
   ],
   "source": [
    "#69. Usage of the @deleter Decorator in Python Property Decorators\n",
    "#The @deleter decorator is used to define a method that deletes a property.\n",
    "class Person:\n",
    "    def __init__(self, name):\n",
    "        self._name = name\n",
    "\n",
    "    @property\n",
    "    def name(self):\n",
    "        return self._name\n",
    "\n",
    "    @name.deleter\n",
    "    def name(self):\n",
    "        print(\"Deleting name...\")\n",
    "        del self._name\n",
    "\n",
    "# Example usage\n",
    "person = Person(\"Alice\")\n",
    "del person.name"
   ]
  },
  {
   "cell_type": "code",
   "execution_count": 62,
   "id": "5e5a161e-b0a1-4f4e-bdc1-52aaefb6fc09",
   "metadata": {},
   "outputs": [
    {
     "name": "stdout",
     "output_type": "stream",
     "text": [
      "5\n",
      "10\n"
     ]
    }
   ],
   "source": [
    "#70. How Encapsulation Relates to Property Decorators in Python\n",
    "#Property decorators help in encapsulating the internal state of an object by controlling access to private attributes.\n",
    "class Circle:\n",
    "    def __init__(self, radius):\n",
    "        self._radius = radius\n",
    "\n",
    "    @property\n",
    "    def radius(self):\n",
    "        return self._radius\n",
    "\n",
    "    @radius.setter\n",
    "    def radius(self, value):\n",
    "        if value < 0:\n",
    "            raise ValueError(\"Radius cannot be negative\")\n",
    "        self._radius = value\n",
    "\n",
    "# Example usage\n",
    "circle = Circle(5)\n",
    "print(circle.radius)\n",
    "circle.radius = 10\n",
    "print(circle.radius)"
   ]
  },
  {
   "cell_type": "code",
   "execution_count": 63,
   "id": "c38d063d-3d5a-4151-80c6-445b05e35c70",
   "metadata": {},
   "outputs": [
    {
     "name": "stdout",
     "output_type": "stream",
     "text": [
      "100\n",
      "200\n"
     ]
    }
   ],
   "source": [
    "#71. Define a Method for Encapsulation with Property Decorators\n",
    "class Account:\n",
    "    def __init__(self, balance):\n",
    "        self._balance = balance\n",
    "\n",
    "    @property\n",
    "    def balance(self):\n",
    "        return self._balance\n",
    "\n",
    "    @balance.setter\n",
    "    def balance(self, amount):\n",
    "        if amount < 0:\n",
    "            raise ValueError(\"Balance cannot be negative\")\n",
    "        self._balance = amount\n",
    "\n",
    "# Example usage\n",
    "account = Account(100)\n",
    "print(account.balance)\n",
    "account.balance = 200\n",
    "print(account.balance)"
   ]
  },
  {
   "cell_type": "code",
   "execution_count": null,
   "id": "9f0a587c-0200-43a6-93aa-256e6d453fa6",
   "metadata": {},
   "outputs": [],
   "source": []
  }
 ],
 "metadata": {
  "kernelspec": {
   "display_name": "Python 3 (ipykernel)",
   "language": "python",
   "name": "python3"
  },
  "language_info": {
   "codemirror_mode": {
    "name": "ipython",
    "version": 3
   },
   "file_extension": ".py",
   "mimetype": "text/x-python",
   "name": "python",
   "nbconvert_exporter": "python",
   "pygments_lexer": "ipython3",
   "version": "3.13.0"
  }
 },
 "nbformat": 4,
 "nbformat_minor": 5
}
