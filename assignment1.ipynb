{
 "cells": [
  {
   "cell_type": "markdown",
   "id": "a1d2ec8e-2c27-4496-ae6c-1d3ef53f494a",
   "metadata": {},
   "source": [
    "Assignment1: Data Structures in Python\n",
    "Name: Ajmeri Khatun\n",
    "Date: Nov 15, 2024"
   ]
  },
  {
   "cell_type": "code",
   "execution_count": 2,
   "id": "171b1676-09e4-462b-b8ce-84e93fbce5f7",
   "metadata": {},
   "outputs": [
    {
     "name": "stdout",
     "output_type": "stream",
     "text": [
      "yppah\n"
     ]
    }
   ],
   "source": [
    "# 1. Write a code to reverse a string.\n",
    "string = \"happy\"\n",
    "print(string[::-1])"
   ]
  },
  {
   "cell_type": "code",
   "execution_count": 3,
   "id": "9256dbbe-5dfc-4dad-898b-28e654a65985",
   "metadata": {},
   "outputs": [
    {
     "name": "stdout",
     "output_type": "stream",
     "text": [
      "1\n"
     ]
    }
   ],
   "source": [
    "# 2. Write a code to count the number of vowels in a string.\n",
    "vowels = \"aeiou\"\n",
    "string = \"happy\"\n",
    "\n",
    "count = sum(string.count(vowel) for vowel in vowels)\n",
    "print(count)"
   ]
  },
  {
   "cell_type": "code",
   "execution_count": 4,
   "id": "d7cd5eb8-9c4a-4623-8c8f-0dd3fa5b370b",
   "metadata": {},
   "outputs": [
    {
     "name": "stdout",
     "output_type": "stream",
     "text": [
      "The given string is a palindrome\n"
     ]
    }
   ],
   "source": [
    "# 3. Write a code to check if a given string is a palindrome or not.\n",
    "string = \"mom\"\n",
    "if string == string[::-1]:\n",
    "    print(\"The given string is a palindrome\")\n",
    "else:\n",
    "    print(\"The given string is not a palindrome\")"
   ]
  },
  {
   "cell_type": "code",
   "execution_count": 5,
   "id": "b4e60a7a-4a83-4003-bb4a-28c5756e9938",
   "metadata": {},
   "outputs": [
    {
     "name": "stdout",
     "output_type": "stream",
     "text": [
      "The two given strings are anagrams of each other\n"
     ]
    }
   ],
   "source": [
    "# 4. Write a code to check if two given strings are anagrams of each other.\n",
    "string1 = \"cat\"\n",
    "string2 = \"act\"\n",
    "if sorted(string1) == sorted(string2):\n",
    "    print(\"The two given strings are anagrams of each other\")\n",
    "else:\n",
    "    print(\"The two given strings are not anagrams of each other\")"
   ]
  },
  {
   "cell_type": "code",
   "execution_count": 6,
   "id": "14b4351b-b922-4186-bb21-f4087fe76b78",
   "metadata": {},
   "outputs": [
    {
     "name": "stdout",
     "output_type": "stream",
     "text": [
      "Occurrences found at positions: [10, 29, 50, 72]\n"
     ]
    }
   ],
   "source": [
    "# 5. Write a code to find all occurrences of a given substring within another string.\n",
    "string = \"This is a test string. Let's test how many times 'test' appears in this test string.\"\n",
    "substring = \"test\"\n",
    "\n",
    "positions = []\n",
    "start = 0\n",
    "while True:\n",
    "    start = string.find(substring, start)\n",
    "    if start == -1:\n",
    "        break\n",
    "    positions.append(start)\n",
    "    start += 1\n",
    "print(\"Occurrences found at positions:\", positions)"
   ]
  },
  {
   "cell_type": "code",
   "execution_count": 7,
   "id": "ce9180b4-c015-4dd5-a1bf-7ac9acec7a68",
   "metadata": {},
   "outputs": [
    {
     "name": "stdout",
     "output_type": "stream",
     "text": [
      "Compressed string: a3b3c2d1a2\n"
     ]
    }
   ],
   "source": [
    "# 6. Write a code to perform basic string compression using the counts of repeated characters.\n",
    "string = \"aaabbbccdaa\"\n",
    "compressed = \"\"\n",
    "count = 1\n",
    "\n",
    "for i in range(1, len(string)):\n",
    "    if string[i] == string[i - 1]:\n",
    "        count += 1\n",
    "    else:\n",
    "        compressed += string[i - 1] + str(count)\n",
    "        count = 1\n",
    "\n",
    "compressed += string[-1] + str(count)\n",
    "print(\"Compressed string:\", compressed)"
   ]
  },
  {
   "cell_type": "code",
   "execution_count": 8,
   "id": "019076b2-872e-4f60-a425-41b0b423f49a",
   "metadata": {},
   "outputs": [
    {
     "name": "stdout",
     "output_type": "stream",
     "text": [
      "The string has all unique characters.\n"
     ]
    }
   ],
   "source": [
    "# 7. Write a code to determine if a string has all unique characters.\n",
    "string = \"abcdef\"\n",
    "\n",
    "if len(string) == len(set(string)):\n",
    "    print(\"The string has all unique characters.\")\n",
    "else:\n",
    "    print(\"The string does not have all unique characters.\")"
   ]
  },
  {
   "cell_type": "code",
   "execution_count": 9,
   "id": "67802441-4c39-4cea-98c3-bb716ab54541",
   "metadata": {},
   "outputs": [
    {
     "name": "stdout",
     "output_type": "stream",
     "text": [
      "HAPPY\n",
      "happy\n"
     ]
    }
   ],
   "source": [
    "# 8. Write a code to convert a given string to uppercase or lowercase.\n",
    "string = \"Happy\"\n",
    "print(string.upper())\n",
    "print(string.lower())"
   ]
  },
  {
   "cell_type": "code",
   "execution_count": 10,
   "id": "930db42c-6787-4677-b69c-8e80202998e8",
   "metadata": {},
   "outputs": [
    {
     "name": "stdout",
     "output_type": "stream",
     "text": [
      "Number of words: 8\n"
     ]
    }
   ],
   "source": [
    "# 9. Write a code to count the number of words in a string.\n",
    "string = \"This is a simple string with several words.\"\n",
    "words = string.split()\n",
    "word_count = len(words)\n",
    "\n",
    "print(\"Number of words:\", word_count)"
   ]
  },
  {
   "cell_type": "code",
   "execution_count": 11,
   "id": "edb21a0e-00fe-44b7-bc93-f976ee571912",
   "metadata": {},
   "outputs": [
    {
     "name": "stdout",
     "output_type": "stream",
     "text": [
      "Concatenated string: HelloWorld\n"
     ]
    }
   ],
   "source": [
    "# 10. Write a code to concatenate two strings without using the + operator.\n",
    "string1 = \"Hello\"\n",
    "string2 = \"World\"\n",
    "\n",
    "result = \"\"\n",
    "for char in string1:\n",
    "    result += char\n",
    "for char in string2:\n",
    "    result += char\n",
    "print(\"Concatenated string:\", result)"
   ]
  },
  {
   "cell_type": "code",
   "execution_count": 12,
   "id": "14361e0c-2ca3-4bd2-8a51-0ee0a4befada",
   "metadata": {},
   "outputs": [
    {
     "name": "stdout",
     "output_type": "stream",
     "text": [
      "List after removal: [1, 2, 4, 5, 6]\n"
     ]
    }
   ],
   "source": [
    "# 11. Write a code to remove all occurrences of a specific element from a list.\n",
    "numbers = [1, 2, 3, 4, 3, 5, 3, 6]\n",
    "element_to_remove = 3\n",
    "\n",
    "result = []\n",
    "for item in numbers:\n",
    "    if item != element_to_remove:\n",
    "        result.append(item)\n",
    "print(\"List after removal:\", result)"
   ]
  },
  {
   "cell_type": "code",
   "execution_count": 13,
   "id": "640e393a-45b4-4251-b011-837229f083e7",
   "metadata": {},
   "outputs": [
    {
     "name": "stdout",
     "output_type": "stream",
     "text": [
      "The second largest number is: 7\n"
     ]
    }
   ],
   "source": [
    "# 12. Implement a code to find the second largest number in a given list of integers.\n",
    "string = [12,2,7,4,1,5]\n",
    "sorted_string = (sorted(string))\n",
    "second_largest = sorted_string[-2]\n",
    "print(\"The second largest number is:\", second_largest)"
   ]
  },
  {
   "cell_type": "code",
   "execution_count": 14,
   "id": "aba18a1f-2d48-4ceb-83a1-71ced6651573",
   "metadata": {},
   "outputs": [
    {
     "name": "stdout",
     "output_type": "stream",
     "text": [
      "Occurrences: {1: 1, 2: 2, 3: 1, 4: 3, 5: 1}\n"
     ]
    }
   ],
   "source": [
    "# 13. Create a code to count the occurrences of each element in a list and return a dictionary with elements as keys and\n",
    "# their counts as values.\n",
    "lst = [1, 2, 2, 3, 4, 4, 4, 5]\n",
    "\n",
    "count_dict = {}\n",
    "for item in lst:\n",
    "    if item in count_dict:\n",
    "        count_dict[item] += 1\n",
    "    else:\n",
    "        count_dict[item] = 1\n",
    "print(\"Occurrences:\", count_dict)"
   ]
  },
  {
   "cell_type": "code",
   "execution_count": 15,
   "id": "72283fdd-eca6-412b-8bb4-715141530f24",
   "metadata": {},
   "outputs": [
    {
     "name": "stdout",
     "output_type": "stream",
     "text": [
      "Reversed list: [5, 4, 3, 2, 1]\n"
     ]
    }
   ],
   "source": [
    "# 14. Write a code to reverse a list in-place without using any built-in reverse functions.\n",
    "lst = [1, 2, 3, 4, 5]\n",
    "\n",
    "n = len(lst)\n",
    "for i in range(n):\n",
    "    lst.insert(i, lst.pop())\n",
    "print(\"Reversed list:\", lst)"
   ]
  },
  {
   "cell_type": "code",
   "execution_count": 16,
   "id": "66228ced-0471-4187-a760-c07d1bc0cdbe",
   "metadata": {},
   "outputs": [
    {
     "name": "stdout",
     "output_type": "stream",
     "text": [
      "['James', 'Bob', 'Mark', 'Kate', 'Sarah']\n"
     ]
    }
   ],
   "source": [
    "# 15. Implement a code to find and remove duplicates from a list while preserving the original order of\n",
    "# elements.\n",
    "names = [\"James\", \"Bob\", \"James\", \"Mark\", \"Kate\", \"Sarah\", \"Kate\"]\n",
    "unique_names = []\n",
    "for name in names:\n",
    "    if name not in unique_names:\n",
    "        unique_names.append(name)\n",
    "print(unique_names)"
   ]
  },
  {
   "cell_type": "code",
   "execution_count": 17,
   "id": "bba822f6-61c7-4a10-81e4-95f0594fbb6a",
   "metadata": {},
   "outputs": [
    {
     "name": "stdout",
     "output_type": "stream",
     "text": [
      "The list is sorted in ascending order.\n"
     ]
    }
   ],
   "source": [
    "# 16. Create a code to check if a given list is sorted (either in ascending or descending order) or not.\n",
    "lst = [1, 2, 3, 4, 5]\n",
    "\n",
    "if lst == sorted(lst):\n",
    "    print(\"The list is sorted in ascending order.\")\n",
    "elif lst == sorted(lst, reverse=True):\n",
    "    print(\"The list is sorted in descending order.\")\n",
    "else:\n",
    "    print(\"The list is not sorted.\")"
   ]
  },
  {
   "cell_type": "code",
   "execution_count": 18,
   "id": "dbb6de1d-2ab9-49f6-963a-d7e25e2a1d38",
   "metadata": {},
   "outputs": [
    {
     "name": "stdout",
     "output_type": "stream",
     "text": [
      "Merged sorted list: [1, 2, 3, 4, 5, 6, 7, 8]\n"
     ]
    }
   ],
   "source": [
    "# 17. Write a code to merge two sorted lists into a single sorted list.\n",
    "list1 = [1, 3, 5, 7]\n",
    "list2 = [2, 4, 6, 8]\n",
    "\n",
    "merged_list = sorted(list1 + list2)\n",
    "print(\"Merged sorted list:\", merged_list)"
   ]
  },
  {
   "cell_type": "code",
   "execution_count": 19,
   "id": "233b24df-8b84-424f-b03e-e8777703d290",
   "metadata": {},
   "outputs": [
    {
     "name": "stdout",
     "output_type": "stream",
     "text": [
      "Intersection of the lists: [4, 5]\n"
     ]
    }
   ],
   "source": [
    "# 18. Implement a code to find the intersection of two given lists.\n",
    "list1 = [1, 2, 3, 4, 5]\n",
    "list2 = [4, 5, 6, 7, 8]\n",
    "\n",
    "intersection = list(set(list1) & set(list2))\n",
    "print(\"Intersection of the lists:\", intersection)"
   ]
  },
  {
   "cell_type": "code",
   "execution_count": 20,
   "id": "1104f6f1-433f-474d-a092-d4b17d075dc6",
   "metadata": {},
   "outputs": [
    {
     "name": "stdout",
     "output_type": "stream",
     "text": [
      "Union of the lists: [1, 2, 3, 4, 5, 6, 7, 8]\n"
     ]
    }
   ],
   "source": [
    "# 19. Create a code to find the union of two lists without duplicates.\n",
    "list1 = [1, 2, 3, 4, 5]\n",
    "list2 = [4, 5, 6, 7, 8]\n",
    "\n",
    "union = list(set(list1) | set(list2))\n",
    "print(\"Union of the lists:\", union)"
   ]
  },
  {
   "cell_type": "code",
   "execution_count": 21,
   "id": "b9798593-65bf-42e4-b675-6053f7eb6d09",
   "metadata": {},
   "outputs": [
    {
     "name": "stdout",
     "output_type": "stream",
     "text": [
      "Shuffled list: [2, 4, 1, 3, 5]\n"
     ]
    }
   ],
   "source": [
    "# 20. Write a code to shuffle a given list randomly without using any built-in shuffle functions.\n",
    "import random\n",
    "\n",
    "lst = [1, 2, 3, 4, 5]\n",
    "\n",
    "for i in range(len(lst)):\n",
    "    j = random.randint(0, len(lst) - 1)\n",
    "    lst[i], lst[j] = lst[j], lst[i]\n",
    "print(\"Shuffled list:\", lst)"
   ]
  },
  {
   "cell_type": "code",
   "execution_count": 22,
   "id": "30047a85-b894-4f8a-9a1f-c32bc68644f0",
   "metadata": {},
   "outputs": [
    {
     "name": "stdout",
     "output_type": "stream",
     "text": [
      "Common elements: (4, 5)\n"
     ]
    }
   ],
   "source": [
    "# 21. Write a code that takes two tuples as input and returns a new tuple containing elements that are\n",
    "# common to both input tuples.\n",
    "tuple1 = (1, 2, 3, 4, 5)\n",
    "tuple2 = (4, 5, 6, 7, 8)\n",
    "\n",
    "common_elements = tuple(set(tuple1) & set(tuple2))\n",
    "print(\"Common elements:\", common_elements)"
   ]
  },
  {
   "cell_type": "code",
   "execution_count": 23,
   "id": "e6ece557-a7a1-42ef-b61c-f82a3ab3dad7",
   "metadata": {},
   "outputs": [
    {
     "name": "stdin",
     "output_type": "stream",
     "text": [
      "Enter the first set of integers separated by commas:  1,2,3,4\n",
      "Enter the second set of integers separated by commas:  3,4,5,6\n"
     ]
    },
    {
     "name": "stdout",
     "output_type": "stream",
     "text": [
      "Intersection: {3, 4}\n"
     ]
    }
   ],
   "source": [
    "# 22. Create a code that prompts the user to enter two sets of integers separated by commas. Then, print the\n",
    "# intersection of these two sets.\n",
    "set1 = set(map(int, input(\"Enter the first set of integers separated by commas: \").split(',')))\n",
    "set2 = set(map(int, input(\"Enter the second set of integers separated by commas: \").split(',')))\n",
    "\n",
    "intersection = set1 & set2\n",
    "print(\"Intersection:\", intersection)"
   ]
  },
  {
   "cell_type": "code",
   "execution_count": 24,
   "id": "8031c509-ea2d-4736-a5e2-01c612a7a361",
   "metadata": {},
   "outputs": [
    {
     "name": "stdout",
     "output_type": "stream",
     "text": [
      "Concatenated tuple: (1, 2, 3, 4, 5, 6)\n"
     ]
    }
   ],
   "source": [
    "# 23. Write a code to concatenate two tuples. The function should take two tuples as input and return a new\n",
    "# tuple containing elements from both input tuples.\n",
    "tuple1 = (1, 2, 3)\n",
    "tuple2 = (4, 5, 6)\n",
    "\n",
    "result = tuple1 + tuple2\n",
    "print(\"Concatenated tuple:\", result)"
   ]
  },
  {
   "cell_type": "code",
   "execution_count": 25,
   "id": "4692b624-8a0b-497a-b6d8-d16c3c6fc061",
   "metadata": {},
   "outputs": [
    {
     "name": "stdin",
     "output_type": "stream",
     "text": [
      "Enter the first set of strings separated by commas:  1,2,3,4\n",
      "Enter the second set of strings separated by commas:  3,4,5,6\n"
     ]
    },
    {
     "name": "stdout",
     "output_type": "stream",
     "text": [
      "Elements in the first set but not in the second set: {'2', '1'}\n"
     ]
    }
   ],
   "source": [
    "# 24. Develop a code that prompts the user to input two sets of strings. Then, print the elements that are\n",
    "# present in the first set but not in the second set.\n",
    "set1 = set(input(\"Enter the first set of strings separated by commas: \").split(','))\n",
    "set2 = set(input(\"Enter the second set of strings separated by commas: \").split(','))\n",
    "\n",
    "difference = set1 - set2\n",
    "print(\"Elements in the first set but not in the second set:\", difference)"
   ]
  },
  {
   "cell_type": "code",
   "execution_count": 26,
   "id": "04f8dd0f-5929-4da8-818d-0bdadb5d600e",
   "metadata": {},
   "outputs": [
    {
     "name": "stdin",
     "output_type": "stream",
     "text": [
      "Enter the start index:  2\n",
      "Enter the end index:  5\n"
     ]
    },
    {
     "name": "stdout",
     "output_type": "stream",
     "text": [
      "New tuple: (3, 4, 5)\n"
     ]
    }
   ],
   "source": [
    "# 25. Create a code that takes a tuple and two integers as input. The function should return a new tuple\n",
    "# containing elements from the original tuple within the specified range of indices.\n",
    "original_tuple = (1, 2, 3, 4, 5, 6, 7)\n",
    "\n",
    "start_index = int(input(\"Enter the start index: \"))\n",
    "end_index = int(input(\"Enter the end index: \"))\n",
    "new_tuple = original_tuple[start_index:end_index]\n",
    "print(\"New tuple:\", new_tuple)"
   ]
  },
  {
   "cell_type": "code",
   "execution_count": 27,
   "id": "ebb62e3c-7627-43e7-a3bb-e6b62c1859ea",
   "metadata": {},
   "outputs": [
    {
     "name": "stdin",
     "output_type": "stream",
     "text": [
      "Enter the first set of characters separated by commas:  a,b,c,d\n",
      "Enter the second set of characters separated by commas:  d,e,f,g\n"
     ]
    },
    {
     "name": "stdout",
     "output_type": "stream",
     "text": [
      "Union of the two sets: {'f', 'a', 'd', 'c', 'e', 'b', 'g'}\n"
     ]
    }
   ],
   "source": [
    "# 26. Write a code that prompts the user to input two sets of characters. Then, print the union of these two sets.\n",
    "set1 = set(input(\"Enter the first set of characters separated by commas: \").split(','))\n",
    "set2 = set(input(\"Enter the second set of characters separated by commas: \").split(','))\n",
    "\n",
    "union = set1 | set2\n",
    "print(\"Union of the two sets:\", union)"
   ]
  },
  {
   "cell_type": "code",
   "execution_count": 28,
   "id": "fd5cfd13-e478-4b7a-8b7b-a8ef55a8b929",
   "metadata": {},
   "outputs": [
    {
     "name": "stdin",
     "output_type": "stream",
     "text": [
      "Enter a tuple of integers separated by commas:  1,2,3,4\n"
     ]
    },
    {
     "name": "stdout",
     "output_type": "stream",
     "text": [
      "Maximum value: 4\n",
      "Minimum value: 1\n"
     ]
    }
   ],
   "source": [
    "# 27. Develop a code that takes a tuple of integers as input. The function should return the maximum and\n",
    "# minimum values from the tuple using tuple unpacking.\n",
    "input_tuple = tuple(map(int, input(\"Enter a tuple of integers separated by commas: \").split(',')))\n",
    "\n",
    "max_val, min_val = max(input_tuple), min(input_tuple)\n",
    "print(\"Maximum value:\", max_val)\n",
    "print(\"Minimum value:\", min_val)"
   ]
  },
  {
   "cell_type": "code",
   "execution_count": 29,
   "id": "5360ef82-299e-4fc3-9c7e-66934ce0b6b1",
   "metadata": {},
   "outputs": [
    {
     "name": "stdout",
     "output_type": "stream",
     "text": [
      "Union of the sets: {1, 2, 3, 4, 5, 6, 7, 8}\n",
      "Intersection of the sets: {4, 5}\n",
      "Difference of the sets (set1 - set2): {1, 2, 3}\n"
     ]
    }
   ],
   "source": [
    "# 28. Create a code that defines two sets of integers. Then, print the union, intersection, and difference of these\n",
    "# two sets.\n",
    "set1 = {1, 2, 3, 4, 5}\n",
    "set2 = {4, 5, 6, 7, 8}\n",
    "\n",
    "print(\"Union of the sets:\", set1 | set2)\n",
    "print(\"Intersection of the sets:\", set1 & set2)\n",
    "print(\"Difference of the sets (set1 - set2):\", set1 - set2)"
   ]
  },
  {
   "cell_type": "code",
   "execution_count": 30,
   "id": "956b6828-4b07-4ebd-aafe-09bccdc63411",
   "metadata": {},
   "outputs": [
    {
     "name": "stdin",
     "output_type": "stream",
     "text": [
      "Enter a tuple of integers separated by commas:  1,2,2,3,4,4,4,5\n",
      "Enter the element to count:  4\n"
     ]
    },
    {
     "name": "stdout",
     "output_type": "stream",
     "text": [
      "The element 4 appears 3 times in the tuple.\n"
     ]
    }
   ],
   "source": [
    "# 29. Write a code that takes a tuple and an element as input. The function should return the count of\n",
    "# occurrences of the given element in the tuple.\n",
    "input_tuple = tuple(map(int, input(\"Enter a tuple of integers separated by commas: \").split(',')))\n",
    "\n",
    "element = int(input(\"Enter the element to count: \"))\n",
    "count = input_tuple.count(element)\n",
    "print(f\"The element {element} appears {count} times in the tuple.\")"
   ]
  },
  {
   "cell_type": "code",
   "execution_count": 31,
   "id": "e6931e39-90d9-4d40-9f7a-1def2f2b4085",
   "metadata": {},
   "outputs": [
    {
     "name": "stdin",
     "output_type": "stream",
     "text": [
      "Enter the first set of strings separated by commas:  apple,banana,cherry\n",
      "Enter the second set of strings separated by commas:  cherry,mango,guava\n"
     ]
    },
    {
     "name": "stdout",
     "output_type": "stream",
     "text": [
      "Symmetric difference of the two sets: {'banana', 'mango', 'guava', 'apple'}\n"
     ]
    }
   ],
   "source": [
    "# 30. Develop a code that prompts the user to input two sets of strings. Then, print the symmetric difference of\n",
    "# these two sets.\n",
    "set1 = set(input(\"Enter the first set of strings separated by commas: \").split(','))\n",
    "set2 = set(input(\"Enter the second set of strings separated by commas: \").split(','))\n",
    "\n",
    "symmetric_difference = set1 ^ set2\n",
    "print(\"Symmetric difference of the two sets:\", symmetric_difference)"
   ]
  },
  {
   "cell_type": "code",
   "execution_count": 34,
   "id": "5aa33be9-bf41-480d-b9c3-d6daf8e5fbd6",
   "metadata": {},
   "outputs": [
    {
     "name": "stdin",
     "output_type": "stream",
     "text": [
      "Enter a list of words separated by spaces:  apple banana apple orange banana apple\n"
     ]
    },
    {
     "name": "stdout",
     "output_type": "stream",
     "text": [
      "Word frequencies: {'apple': 3, 'banana': 2, 'orange': 1}\n"
     ]
    }
   ],
   "source": [
    "# 31. Write a code that takes a list of words as input and returns a dictionary where the keys are unique words\n",
    "# and the values are the frequencies of those words in the input list.\n",
    "words = input(\"Enter a list of words separated by spaces: \").split()\n",
    "\n",
    "word_count = {}\n",
    "for word in words:\n",
    "    word_count[word] = word_count.get(word, 0) + 1\n",
    "print(\"Word frequencies:\", word_count)"
   ]
  },
  {
   "cell_type": "code",
   "execution_count": 33,
   "id": "e3b60cd7-7b7d-4673-b376-c2d9638baa6e",
   "metadata": {},
   "outputs": [
    {
     "name": "stdin",
     "output_type": "stream",
     "text": [
      "Enter the first dictionary:  {'a': 5, 'b': 10, 'c': 15}\n",
      "Enter the second dictionary:  {'b': 20, 'c': 25, 'd': 30}\n"
     ]
    },
    {
     "name": "stdout",
     "output_type": "stream",
     "text": [
      "Merged dictionary: {'a': 5, 'd': 30, 'c': 40, 'b': 30}\n"
     ]
    }
   ],
   "source": [
    "# 32. Write a code that takes two dictionaries as input and merges them into a single dictionary. If there are\n",
    "# common keys, the values should be added together.\n",
    "dict1 = eval(input(\"Enter the first dictionary: \"))\n",
    "dict2 = eval(input(\"Enter the second dictionary: \"))\n",
    "\n",
    "merged_dict = {k: dict1.get(k, 0) + dict2.get(k, 0) for k in set(dict1) | set(dict2)}\n",
    "print(\"Merged dictionary:\", merged_dict)"
   ]
  },
  {
   "cell_type": "code",
   "execution_count": 35,
   "id": "5c8717e0-e29f-4bfa-bb91-c6a6377dabb2",
   "metadata": {},
   "outputs": [
    {
     "name": "stdin",
     "output_type": "stream",
     "text": [
      "Enter the list of keys separated by commas:  a,b,c\n"
     ]
    },
    {
     "name": "stdout",
     "output_type": "stream",
     "text": [
      "The value: 5\n"
     ]
    }
   ],
   "source": [
    "# 33. Write a code to access a value in a nested dictionary. The function should take the dictionary and a list of\n",
    "# keys as input, and return the corresponding value. If any of the keys do not exist in the dictionary, the\n",
    "# function should return None.\n",
    "nested_dict = {\n",
    "    'a': {\n",
    "        'b': {\n",
    "            'c': 5\n",
    "        }\n",
    "    }\n",
    "}\n",
    "\n",
    "keys = input(\"Enter the list of keys separated by commas: \").split(',')\n",
    "value = nested_dict\n",
    "for key in keys:\n",
    "    value = value.get(key, None)\n",
    "    if value is None:\n",
    "        break\n",
    "print(\"The value:\", value)"
   ]
  },
  {
   "cell_type": "code",
   "execution_count": 36,
   "id": "ac99f604-2cfb-4d7b-ba35-10f31d3406b6",
   "metadata": {},
   "outputs": [
    {
     "name": "stdin",
     "output_type": "stream",
     "text": [
      "Enter a dictionary:  {'apple': 5, 'banana': 2, 'cherry': 7}\n",
      "Enter 'asc' for ascending or 'desc' for descending order:  asc\n"
     ]
    },
    {
     "name": "stdout",
     "output_type": "stream",
     "text": [
      "Sorted dictionary: {'banana': 2, 'apple': 5, 'cherry': 7}\n"
     ]
    }
   ],
   "source": [
    "# 34. Write a code that takes a dictionary as input and returns a sorted version of it based on the values. You\n",
    "# can choose whether to sort in ascending or descending order.\n",
    "input_dict = eval(input(\"Enter a dictionary: \"))\n",
    "\n",
    "order = input(\"Enter 'asc' for ascending or 'desc' for descending order: \")\n",
    "sorted_dict = dict(sorted(input_dict.items(), key=lambda item: item[1], reverse=(order == 'desc')))\n",
    "print(\"Sorted dictionary:\", sorted_dict)"
   ]
  },
  {
   "cell_type": "code",
   "execution_count": 37,
   "id": "82a3d0c1-dd7c-4abf-8a0a-d2a936ef625f",
   "metadata": {},
   "outputs": [
    {
     "name": "stdin",
     "output_type": "stream",
     "text": [
      "Enter a dictionary:  {'a': 1, 'b': 2, 'c': 1, 'd': 3}\n"
     ]
    },
    {
     "name": "stdout",
     "output_type": "stream",
     "text": [
      "Inverted dictionary: {1: ['a', 'c'], 2: ['b'], 3: ['d']}\n"
     ]
    }
   ],
   "source": [
    "# 35. Write a code that inverts a dictionary, swapping keys and values. Ensure that the inverted dictionary\n",
    "# correctly handles cases where multiple keys have the same value by storing the keys as a list in the\n",
    "# inverted dictionary.\n",
    "input_dict = eval(input(\"Enter a dictionary: \"))\n",
    "\n",
    "inverted_dict = {}\n",
    "for key, value in input_dict.items():\n",
    "    if value in inverted_dict:\n",
    "        inverted_dict[value].append(key)\n",
    "    else:\n",
    "        inverted_dict[value] = [key]\n",
    "\n",
    "print(\"Inverted dictionary:\", inverted_dict)"
   ]
  },
  {
   "cell_type": "code",
   "execution_count": null,
   "id": "3fb9c750-68ff-430f-be04-5fe0f5b32149",
   "metadata": {},
   "outputs": [],
   "source": []
  }
 ],
 "metadata": {
  "kernelspec": {
   "display_name": "Python 3 (ipykernel)",
   "language": "python",
   "name": "python3"
  },
  "language_info": {
   "codemirror_mode": {
    "name": "ipython",
    "version": 3
   },
   "file_extension": ".py",
   "mimetype": "text/x-python",
   "name": "python",
   "nbconvert_exporter": "python",
   "pygments_lexer": "ipython3",
   "version": "3.13.0"
  }
 },
 "nbformat": 4,
 "nbformat_minor": 5
}
